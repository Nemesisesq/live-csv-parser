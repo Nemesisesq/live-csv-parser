{
 "cells": [
  {
   "cell_type": "code",
   "execution_count": 202,
   "metadata": {
    "collapsed": true
   },
   "outputs": [],
   "source": [
    "from os import listdir\n",
    "from os.path import isfile, join, expanduser\n",
    "import re\n",
    "import csv\n",
    "import json\n",
    "from pymongo import MongoClient"
   ]
  },
  {
   "cell_type": "code",
   "execution_count": 203,
   "metadata": {},
   "outputs": [
    {
     "data": {
      "text/plain": [
       "'/Users/Nem/Dropbox/streamsavvy_live_data'"
      ]
     },
     "execution_count": 203,
     "metadata": {},
     "output_type": "execute_result"
    }
   ],
   "source": [
    "mypath = expanduser('~') + '/Dropbox/streamsavvy_live_data'\n",
    "mypath"
   ]
  },
  {
   "cell_type": "code",
   "execution_count": 204,
   "metadata": {},
   "outputs": [],
   "source": [
    "onlyfiles = [join(mypath, f) for f in listdir(mypath) if isfile(join(mypath, f))]"
   ]
  },
  {
   "cell_type": "code",
   "execution_count": 205,
   "metadata": {},
   "outputs": [],
   "source": [
    "csvz = [s for s in onlyfiles if re.search('csv', s)]"
   ]
  },
  {
   "cell_type": "code",
   "execution_count": 206,
   "metadata": {},
   "outputs": [],
   "source": [
    "def servmatch(s) :\n",
    "    if 'sling' in s:\n",
    "        return 'sling'\n",
    "    if 'vue' in s:\n",
    "        return 'playstation vue'"
   ]
  },
  {
   "cell_type": "code",
   "execution_count": 207,
   "metadata": {},
   "outputs": [
    {
     "name": "stdout",
     "output_type": "stream",
     "text": [
      "/Users/Nem/Dropbox/streamsavvy_live_data/cbs_all_access.csv\n/Users/Nem/Dropbox/streamsavvy_live_data/fubotv.csv\n/Users/Nem/Dropbox/streamsavvy_live_data/hbo_now.csv\n/Users/Nem/Dropbox/streamsavvy_live_data/live_network-service_match.csv\n/Users/Nem/Dropbox/streamsavvy_live_data/live_notification_content.csv\n/Users/Nem/Dropbox/streamsavvy_live_data/ps_vue_access.csv\n/Users/Nem/Dropbox/streamsavvy_live_data/ps_vue_core.csv\n/Users/Nem/Dropbox/streamsavvy_live_data/ps_vue_elite.csv\n/Users/Nem/Dropbox/streamsavvy_live_data/ps_vue_ultra.csv\n/Users/Nem/Dropbox/streamsavvy_live_data/service_prices.csv\n/Users/Nem/Dropbox/streamsavvy_live_data/showtime.csv\n/Users/Nem/Dropbox/streamsavvy_live_data/sling_blue+orange.csv\n/Users/Nem/Dropbox/streamsavvy_live_data/sling_blue.csv\n"
     ]
    },
    {
     "name": "stdout",
     "output_type": "stream",
     "text": [
      "/Users/Nem/Dropbox/streamsavvy_live_data/sling_extra_broadcast.csv\n/Users/Nem/Dropbox/streamsavvy_live_data/sling_extra_caribe.csv\n/Users/Nem/Dropbox/streamsavvy_live_data/sling_extra_chinese.csv\n/Users/Nem/Dropbox/streamsavvy_live_data/sling_extra_comedy.csv\n/Users/Nem/Dropbox/streamsavvy_live_data/sling_extra_cricket.csv\n/Users/Nem/Dropbox/streamsavvy_live_data/sling_extra_espana.csv\n/Users/Nem/Dropbox/streamsavvy_live_data/sling_extra_globo.csv\n/Users/Nem/Dropbox/streamsavvy_live_data/sling_extra_hindi.csv\n/Users/Nem/Dropbox/streamsavvy_live_data/sling_extra_hollywood.csv\n/Users/Nem/Dropbox/streamsavvy_live_data/sling_extra_italian.csv\n/Users/Nem/Dropbox/streamsavvy_live_data/sling_extra_kids.csv\n/Users/Nem/Dropbox/streamsavvy_live_data/sling_extra_lifestyle.csv\n"
     ]
    },
    {
     "name": "stdout",
     "output_type": "stream",
     "text": [
      "/Users/Nem/Dropbox/streamsavvy_live_data/sling_extra_pak-india.csv\n/Users/Nem/Dropbox/streamsavvy_live_data/sling_extra_spanish.csv\n/Users/Nem/Dropbox/streamsavvy_live_data/sling_extra_sports.csv\n/Users/Nem/Dropbox/streamsavvy_live_data/sling_extra_sudamerica.csv\n/Users/Nem/Dropbox/streamsavvy_live_data/sling_extra_world_music.csv\n/Users/Nem/Dropbox/streamsavvy_live_data/sling_extra_world_news.csv\n/Users/Nem/Dropbox/streamsavvy_live_data/sling_orange.csv\n"
     ]
    }
   ],
   "source": [
    "for f in csvz:\n",
    "    with open(f, newline='') as csvfile:\n",
    "        print(f)\n",
    "        r = csv.DictReader(csvfile)\n",
    "        l = [s for s in r]\n",
    "        \n",
    "        \n",
    "        j = f.replace('csv', 'json')\n",
    "        \n",
    "        try:\n",
    "            for x in l :\n",
    "                if 'services' in x:\n",
    "                    x['services'] = [r for r in x[\"services\"].split(' ') if r]\n",
    "                    \n",
    "                    x['services'] = [{\"service\": r,\"app\": servmatch(r)} for r in x['services']]\n",
    "        except Exception as e:\n",
    "            print(e)\n",
    "            \n",
    "            \n",
    "        with open(j, 'w') as json_file:\n",
    "            json.dump(l, json_file)"
   ]
  },
  {
   "cell_type": "code",
   "execution_count": 208,
   "metadata": {},
   "outputs": [],
   "source": [
    "price_file = open(join(mypath, 'service_prices.json'))\n",
    "prices = json.load(price_file)\n",
    "    \n",
    "channel_file = open(join(mypath, 'live_network-service_match.json'))\n",
    "chans = json.load(channel_file)"
   ]
  },
  {
   "cell_type": "code",
   "execution_count": 209,
   "metadata": {},
   "outputs": [],
   "source": [
    "for c in chans:\n",
    "    for s in c['services']:\n",
    "        for p in prices:\n",
    "            if s['service'] == p['service']:\n",
    "                s['price'] = p"
   ]
  },
  {
   "cell_type": "code",
   "execution_count": 210,
   "metadata": {},
   "outputs": [],
   "source": [
    "final_file = open('final_file.json', 'w')\n",
    "json.dump(chans, final_file)\n",
    "final_file.close()"
   ]
  },
  {
   "cell_type": "code",
   "execution_count": 213,
   "metadata": {},
   "outputs": [],
   "source": [
    "client = MongoClient('mongodb://localhost:27017')\n",
    "db =client.test\n",
    "collection = db.live_streaming_services"
   ]
  },
  {
   "cell_type": "code",
   "execution_count": 212,
   "metadata": {},
   "outputs": [],
   "source": [
    "result = collection.insert_many(chans)"
   ]
  },
  {
   "cell_type": "code",
   "execution_count": 217,
   "metadata": {},
   "outputs": [
    {
     "data": {
      "text/plain": [
       "[ObjectId('5820eb7c0b7649e98691badd'),\n ObjectId('5820eb7c0b7649e98691bade'),\n ObjectId('5820eb7c0b7649e98691badf'),\n ObjectId('5820eb7c0b7649e98691bae0'),\n ObjectId('5820eb7c0b7649e98691bae1'),\n ObjectId('5820eb7c0b7649e98691bae2'),\n ObjectId('5820eb7c0b7649e98691bae3'),\n ObjectId('5820eb7c0b7649e98691bae4'),\n ObjectId('5820eb7c0b7649e98691bae5'),\n ObjectId('5820eb7c0b7649e98691bae6'),\n ObjectId('5820eb7c0b7649e98691bae7'),\n ObjectId('5820eb7c0b7649e98691bae8'),\n ObjectId('5820eb7c0b7649e98691bae9'),\n ObjectId('5820eb7c0b7649e98691baea'),\n ObjectId('5820eb7c0b7649e98691baeb'),\n ObjectId('5820eb7c0b7649e98691baec'),\n ObjectId('5820eb7c0b7649e98691baed'),\n ObjectId('5820eb7c0b7649e98691baee'),\n ObjectId('5820eb7c0b7649e98691baef'),\n ObjectId('5820eb7c0b7649e98691baf0'),\n ObjectId('5820eb7c0b7649e98691baf1'),\n ObjectId('5820eb7c0b7649e98691baf2'),\n ObjectId('5820eb7c0b7649e98691baf3'),\n ObjectId('5820eb7c0b7649e98691baf4'),\n ObjectId('5820eb7c0b7649e98691baf5'),\n ObjectId('5820eb7c0b7649e98691baf6'),\n ObjectId('5820eb7c0b7649e98691baf7'),\n ObjectId('5820eb7c0b7649e98691baf8'),\n ObjectId('5820eb7c0b7649e98691baf9'),\n ObjectId('5820eb7c0b7649e98691bafa'),\n ObjectId('5820eb7c0b7649e98691bafb'),\n ObjectId('5820eb7c0b7649e98691bafc'),\n ObjectId('5820eb7c0b7649e98691bafd'),\n ObjectId('5820eb7c0b7649e98691bafe'),\n ObjectId('5820eb7c0b7649e98691baff'),\n ObjectId('5820eb7c0b7649e98691bb00'),\n ObjectId('5820eb7c0b7649e98691bb01'),\n ObjectId('5820eb7c0b7649e98691bb02'),\n ObjectId('5820eb7c0b7649e98691bb03'),\n ObjectId('5820eb7c0b7649e98691bb04'),\n ObjectId('5820eb7c0b7649e98691bb05'),\n ObjectId('5820eb7c0b7649e98691bb06'),\n ObjectId('5820eb7c0b7649e98691bb07'),\n ObjectId('5820eb7c0b7649e98691bb08'),\n ObjectId('5820eb7c0b7649e98691bb09'),\n ObjectId('5820eb7c0b7649e98691bb0a'),\n ObjectId('5820eb7c0b7649e98691bb0b'),\n ObjectId('5820eb7c0b7649e98691bb0c'),\n ObjectId('5820eb7c0b7649e98691bb0d'),\n ObjectId('5820eb7c0b7649e98691bb0e'),\n ObjectId('5820eb7c0b7649e98691bb0f'),\n ObjectId('5820eb7c0b7649e98691bb10'),\n ObjectId('5820eb7c0b7649e98691bb11'),\n ObjectId('5820eb7c0b7649e98691bb12'),\n ObjectId('5820eb7c0b7649e98691bb13'),\n ObjectId('5820eb7c0b7649e98691bb14'),\n ObjectId('5820eb7c0b7649e98691bb15'),\n ObjectId('5820eb7c0b7649e98691bb16'),\n ObjectId('5820eb7c0b7649e98691bb17'),\n ObjectId('5820eb7c0b7649e98691bb18'),\n ObjectId('5820eb7c0b7649e98691bb19'),\n ObjectId('5820eb7c0b7649e98691bb1a'),\n ObjectId('5820eb7c0b7649e98691bb1b'),\n ObjectId('5820eb7c0b7649e98691bb1c'),\n ObjectId('5820eb7c0b7649e98691bb1d'),\n ObjectId('5820eb7c0b7649e98691bb1e'),\n ObjectId('5820eb7c0b7649e98691bb1f'),\n ObjectId('5820eb7c0b7649e98691bb20'),\n ObjectId('5820eb7c0b7649e98691bb21'),\n ObjectId('5820eb7c0b7649e98691bb22'),\n ObjectId('5820eb7c0b7649e98691bb23'),\n ObjectId('5820eb7c0b7649e98691bb24'),\n ObjectId('5820eb7c0b7649e98691bb25'),\n ObjectId('5820eb7c0b7649e98691bb26'),\n ObjectId('5820eb7c0b7649e98691bb27'),\n ObjectId('5820eb7c0b7649e98691bb28'),\n ObjectId('5820eb7c0b7649e98691bb29'),\n ObjectId('5820eb7c0b7649e98691bb2a'),\n ObjectId('5820eb7c0b7649e98691bb2b'),\n ObjectId('5820eb7c0b7649e98691bb2c'),\n ObjectId('5820eb7c0b7649e98691bb2d'),\n ObjectId('5820eb7c0b7649e98691bb2e'),\n ObjectId('5820eb7c0b7649e98691bb2f'),\n ObjectId('5820eb7c0b7649e98691bb30'),\n ObjectId('5820eb7c0b7649e98691bb31'),\n ObjectId('5820eb7c0b7649e98691bb32'),\n ObjectId('5820eb7c0b7649e98691bb33'),\n ObjectId('5820eb7c0b7649e98691bb34'),\n ObjectId('5820eb7c0b7649e98691bb35'),\n ObjectId('5820eb7c0b7649e98691bb36'),\n ObjectId('5820eb7c0b7649e98691bb37'),\n ObjectId('5820eb7c0b7649e98691bb38'),\n ObjectId('5820eb7c0b7649e98691bb39'),\n ObjectId('5820eb7c0b7649e98691bb3a'),\n ObjectId('5820eb7c0b7649e98691bb3b'),\n ObjectId('5820eb7c0b7649e98691bb3c'),\n ObjectId('5820eb7c0b7649e98691bb3d'),\n ObjectId('5820eb7c0b7649e98691bb3e'),\n ObjectId('5820eb7c0b7649e98691bb3f'),\n ObjectId('5820eb7c0b7649e98691bb40'),\n ObjectId('5820eb7c0b7649e98691bb41'),\n ObjectId('5820eb7c0b7649e98691bb42'),\n ObjectId('5820eb7c0b7649e98691bb43'),\n ObjectId('5820eb7c0b7649e98691bb44'),\n ObjectId('5820eb7c0b7649e98691bb45'),\n ObjectId('5820eb7c0b7649e98691bb46'),\n ObjectId('5820eb7c0b7649e98691bb47'),\n ObjectId('5820eb7c0b7649e98691bb48'),\n ObjectId('5820eb7c0b7649e98691bb49'),\n ObjectId('5820eb7c0b7649e98691bb4a'),\n ObjectId('5820eb7c0b7649e98691bb4b'),\n ObjectId('5820eb7c0b7649e98691bb4c'),\n ObjectId('5820eb7c0b7649e98691bb4d'),\n ObjectId('5820eb7c0b7649e98691bb4e'),\n ObjectId('5820eb7c0b7649e98691bb4f'),\n ObjectId('5820eb7c0b7649e98691bb50'),\n ObjectId('5820eb7c0b7649e98691bb51'),\n ObjectId('5820eb7c0b7649e98691bb52'),\n ObjectId('5820eb7c0b7649e98691bb53'),\n ObjectId('5820eb7c0b7649e98691bb54'),\n ObjectId('5820eb7c0b7649e98691bb55'),\n ObjectId('5820eb7c0b7649e98691bb56'),\n ObjectId('5820eb7c0b7649e98691bb57'),\n ObjectId('5820eb7c0b7649e98691bb58'),\n ObjectId('5820eb7c0b7649e98691bb59'),\n ObjectId('5820eb7c0b7649e98691bb5a'),\n ObjectId('5820eb7c0b7649e98691bb5b'),\n ObjectId('5820eb7c0b7649e98691bb5c'),\n ObjectId('5820eb7c0b7649e98691bb5d'),\n ObjectId('5820eb7c0b7649e98691bb5e'),\n ObjectId('5820eb7c0b7649e98691bb5f'),\n ObjectId('5820eb7c0b7649e98691bb60'),\n ObjectId('5820eb7c0b7649e98691bb61'),\n ObjectId('5820eb7c0b7649e98691bb62'),\n ObjectId('5820eb7c0b7649e98691bb63'),\n ObjectId('5820eb7c0b7649e98691bb64'),\n ObjectId('5820eb7c0b7649e98691bb65'),\n ObjectId('5820eb7c0b7649e98691bb66'),\n ObjectId('5820eb7c0b7649e98691bb67'),\n ObjectId('5820eb7c0b7649e98691bb68'),\n ObjectId('5820eb7c0b7649e98691bb69'),\n ObjectId('5820eb7c0b7649e98691bb6a'),\n ObjectId('5820eb7c0b7649e98691bb6b'),\n ObjectId('5820eb7c0b7649e98691bb6c'),\n ObjectId('5820eb7c0b7649e98691bb6d'),\n ObjectId('5820eb7c0b7649e98691bb6e'),\n ObjectId('5820eb7c0b7649e98691bb6f'),\n ObjectId('5820eb7c0b7649e98691bb70'),\n ObjectId('5820eb7c0b7649e98691bb71'),\n ObjectId('5820eb7c0b7649e98691bb72'),\n ObjectId('5820eb7c0b7649e98691bb73'),\n ObjectId('5820eb7c0b7649e98691bb74'),\n ObjectId('5820eb7c0b7649e98691bb75'),\n ObjectId('5820eb7c0b7649e98691bb76'),\n ObjectId('5820eb7c0b7649e98691bb77'),\n ObjectId('5820eb7c0b7649e98691bb78'),\n ObjectId('5820eb7c0b7649e98691bb79'),\n ObjectId('5820eb7c0b7649e98691bb7a'),\n ObjectId('5820eb7c0b7649e98691bb7b'),\n ObjectId('5820eb7c0b7649e98691bb7c'),\n ObjectId('5820eb7c0b7649e98691bb7d'),\n ObjectId('5820eb7c0b7649e98691bb7e'),\n ObjectId('5820eb7c0b7649e98691bb7f'),\n ObjectId('5820eb7c0b7649e98691bb80'),\n ObjectId('5820eb7c0b7649e98691bb81'),\n ObjectId('5820eb7c0b7649e98691bb82'),\n ObjectId('5820eb7c0b7649e98691bb83'),\n ObjectId('5820eb7c0b7649e98691bb84'),\n ObjectId('5820eb7c0b7649e98691bb85'),\n ObjectId('5820eb7c0b7649e98691bb86'),\n ObjectId('5820eb7c0b7649e98691bb87'),\n ObjectId('5820eb7c0b7649e98691bb88'),\n ObjectId('5820eb7c0b7649e98691bb89'),\n ObjectId('5820eb7c0b7649e98691bb8a'),\n ObjectId('5820eb7c0b7649e98691bb8b'),\n ObjectId('5820eb7c0b7649e98691bb8c'),\n ObjectId('5820eb7c0b7649e98691bb8d'),\n ObjectId('5820eb7c0b7649e98691bb8e'),\n ObjectId('5820eb7c0b7649e98691bb8f'),\n ObjectId('5820eb7c0b7649e98691bb90'),\n ObjectId('5820eb7c0b7649e98691bb91'),\n ObjectId('5820eb7c0b7649e98691bb92'),\n ObjectId('5820eb7c0b7649e98691bb93'),\n ObjectId('5820eb7c0b7649e98691bb94'),\n ObjectId('5820eb7c0b7649e98691bb95'),\n ObjectId('5820eb7c0b7649e98691bb96'),\n ObjectId('5820eb7c0b7649e98691bb97'),\n ObjectId('5820eb7c0b7649e98691bb98'),\n ObjectId('5820eb7c0b7649e98691bb99'),\n ObjectId('5820eb7c0b7649e98691bb9a'),\n ObjectId('5820eb7c0b7649e98691bb9b'),\n ObjectId('5820eb7c0b7649e98691bb9c'),\n ObjectId('5820eb7c0b7649e98691bb9d'),\n ObjectId('5820eb7c0b7649e98691bb9e'),\n ObjectId('5820eb7c0b7649e98691bb9f'),\n ObjectId('5820eb7c0b7649e98691bba0'),\n ObjectId('5820eb7c0b7649e98691bba1'),\n ObjectId('5820eb7c0b7649e98691bba2'),\n ObjectId('5820eb7c0b7649e98691bba3'),\n ObjectId('5820eb7c0b7649e98691bba4'),\n ObjectId('5820eb7c0b7649e98691bba5'),\n ObjectId('5820eb7c0b7649e98691bba6'),\n ObjectId('5820eb7c0b7649e98691bba7'),\n ObjectId('5820eb7c0b7649e98691bba8'),\n ObjectId('5820eb7c0b7649e98691bba9'),\n ObjectId('5820eb7c0b7649e98691bbaa'),\n ObjectId('5820eb7c0b7649e98691bbab'),\n ObjectId('5820eb7c0b7649e98691bbac'),\n ObjectId('5820eb7c0b7649e98691bbad'),\n ObjectId('5820eb7c0b7649e98691bbae'),\n ObjectId('5820eb7c0b7649e98691bbaf'),\n ObjectId('5820eb7c0b7649e98691bbb0'),\n ObjectId('5820eb7c0b7649e98691bbb1'),\n ObjectId('5820eb7c0b7649e98691bbb2'),\n ObjectId('5820eb7c0b7649e98691bbb3'),\n ObjectId('5820eb7c0b7649e98691bbb4'),\n ObjectId('5820eb7c0b7649e98691bbb5'),\n ObjectId('5820eb7c0b7649e98691bbb6'),\n ObjectId('5820eb7c0b7649e98691bbb7'),\n ObjectId('5820eb7c0b7649e98691bbb8'),\n ObjectId('5820eb7c0b7649e98691bbb9'),\n ObjectId('5820eb7c0b7649e98691bbba'),\n ObjectId('5820eb7c0b7649e98691bbbb'),\n ObjectId('5820eb7c0b7649e98691bbbc'),\n ObjectId('5820eb7c0b7649e98691bbbd'),\n ObjectId('5820eb7c0b7649e98691bbbe'),\n ObjectId('5820eb7c0b7649e98691bbbf'),\n ObjectId('5820eb7c0b7649e98691bbc0'),\n ObjectId('5820eb7c0b7649e98691bbc1'),\n ObjectId('5820eb7c0b7649e98691bbc2'),\n ObjectId('5820eb7c0b7649e98691bbc3'),\n ObjectId('5820eb7c0b7649e98691bbc4'),\n ObjectId('5820eb7c0b7649e98691bbc5'),\n ObjectId('5820eb7c0b7649e98691bbc6'),\n ObjectId('5820eb7c0b7649e98691bbc7'),\n ObjectId('5820eb7c0b7649e98691bbc8'),\n ObjectId('5820eb7c0b7649e98691bbc9'),\n ObjectId('5820eb7c0b7649e98691bbca'),\n ObjectId('5820eb7c0b7649e98691bbcb'),\n ObjectId('5820eb7c0b7649e98691bbcc'),\n ObjectId('5820eb7c0b7649e98691bbcd')]"
      ]
     },
     "execution_count": 217,
     "metadata": {},
     "output_type": "execute_result"
    }
   ],
   "source": [
    "result.inserted_ids"
   ]
  },
  {
   "cell_type": "code",
   "execution_count": 218,
   "metadata": {},
   "outputs": [],
   "source": [
    "noti_file = open(join(mypath, 'live_notification_content.json'))\n",
    "notices = json.load(noti_file)\n",
    "\n",
    "result = db.notifications.insert_many(notices)"
   ]
  },
  {
   "cell_type": "code",
   "execution_count": null,
   "metadata": {},
   "outputs": [],
   "source": [
    "result.inserted_ids"
   ]
  },
  {
   "cell_type": "code",
   "execution_count": null,
   "outputs": [],
   "source": [
    ""
   ]
  }
 ],
 "metadata": {
  "kernelspec": {
   "display_name": "Python 2",
   "language": "python",
   "name": "python2"
  },
  "language_info": {
   "codemirror_mode": {
    "name": "ipython",
    "version": 2.0
   },
   "file_extension": ".py",
   "mimetype": "text/x-python",
   "name": "python",
   "nbconvert_exporter": "python",
   "pygments_lexer": "ipython2",
   "version": "2.7.6"
  }
 },
 "nbformat": 4,
 "nbformat_minor": 0
}
