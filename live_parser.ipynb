{
 "cells": [
  {
   "cell_type": "code",
   "execution_count": 202,
   "metadata": {
    "collapsed": true
   },
   "outputs": [],
   "source": [
    "from os import listdir\n",
    "from os.path import isfile, join, expanduser\n",
    "import re\n",
    "import csv\n",
    "import json\n",
    "from pymongo import MongoClient"
   ]
  },
  {
   "cell_type": "code",
   "execution_count": 203,
   "metadata": {},
   "outputs": [
    {
     "data": {
      "text/plain": [
       "'/Users/Nem/Dropbox/streamsavvy_live_data'"
      ]
     },
     "execution_count": 203,
     "metadata": {},
     "output_type": "execute_result"
    }
   ],
   "source": [
    "mypath = expanduser('~') + '/Dropbox/streamsavvy_live_data'\n",
    "mypath"
   ]
  },
  {
   "cell_type": "code",
   "execution_count": 204,
   "metadata": {},
   "outputs": [],
   "source": [
    "onlyfiles = [join(mypath, f) for f in listdir(mypath) if isfile(join(mypath, f))]"
   ]
  },
  {
   "cell_type": "code",
   "execution_count": 205,
   "metadata": {},
   "outputs": [],
   "source": [
    "csvz = [s for s in onlyfiles if re.search('csv', s)]"
   ]
  },
  {
   "cell_type": "code",
   "execution_count": 206,
   "metadata": {},
   "outputs": [],
   "source": [
    "def servmatch(s) :\n",
    "    if 'sling' in s:\n",
    "        return 'sling'\n",
    "    if 'vue' in s:\n",
    "        return 'playstation vue'"
   ]
  },
  {
   "cell_type": "code",
   "execution_count": 207,
   "metadata": {},
   "outputs": [
    {
     "name": "stdout",
     "output_type": "stream",
     "text": [
      "/Users/Nem/Dropbox/streamsavvy_live_data/cbs_all_access.csv\n/Users/Nem/Dropbox/streamsavvy_live_data/fubotv.csv\n/Users/Nem/Dropbox/streamsavvy_live_data/hbo_now.csv\n/Users/Nem/Dropbox/streamsavvy_live_data/live_network-service_match.csv\n/Users/Nem/Dropbox/streamsavvy_live_data/live_notification_content.csv\n/Users/Nem/Dropbox/streamsavvy_live_data/ps_vue_access.csv\n/Users/Nem/Dropbox/streamsavvy_live_data/ps_vue_core.csv\n/Users/Nem/Dropbox/streamsavvy_live_data/ps_vue_elite.csv\n/Users/Nem/Dropbox/streamsavvy_live_data/ps_vue_ultra.csv\n/Users/Nem/Dropbox/streamsavvy_live_data/service_prices.csv\n/Users/Nem/Dropbox/streamsavvy_live_data/showtime.csv\n/Users/Nem/Dropbox/streamsavvy_live_data/sling_blue+orange.csv\n/Users/Nem/Dropbox/streamsavvy_live_data/sling_blue.csv\n"
     ]
    },
    {
     "name": "stdout",
     "output_type": "stream",
     "text": [
      "/Users/Nem/Dropbox/streamsavvy_live_data/sling_extra_broadcast.csv\n/Users/Nem/Dropbox/streamsavvy_live_data/sling_extra_caribe.csv\n/Users/Nem/Dropbox/streamsavvy_live_data/sling_extra_chinese.csv\n/Users/Nem/Dropbox/streamsavvy_live_data/sling_extra_comedy.csv\n/Users/Nem/Dropbox/streamsavvy_live_data/sling_extra_cricket.csv\n/Users/Nem/Dropbox/streamsavvy_live_data/sling_extra_espana.csv\n/Users/Nem/Dropbox/streamsavvy_live_data/sling_extra_globo.csv\n/Users/Nem/Dropbox/streamsavvy_live_data/sling_extra_hindi.csv\n/Users/Nem/Dropbox/streamsavvy_live_data/sling_extra_hollywood.csv\n/Users/Nem/Dropbox/streamsavvy_live_data/sling_extra_italian.csv\n/Users/Nem/Dropbox/streamsavvy_live_data/sling_extra_kids.csv\n/Users/Nem/Dropbox/streamsavvy_live_data/sling_extra_lifestyle.csv\n"
     ]
    },
    {
     "name": "stdout",
     "output_type": "stream",
     "text": [
      "/Users/Nem/Dropbox/streamsavvy_live_data/sling_extra_pak-india.csv\n/Users/Nem/Dropbox/streamsavvy_live_data/sling_extra_spanish.csv\n/Users/Nem/Dropbox/streamsavvy_live_data/sling_extra_sports.csv\n/Users/Nem/Dropbox/streamsavvy_live_data/sling_extra_sudamerica.csv\n/Users/Nem/Dropbox/streamsavvy_live_data/sling_extra_world_music.csv\n/Users/Nem/Dropbox/streamsavvy_live_data/sling_extra_world_news.csv\n/Users/Nem/Dropbox/streamsavvy_live_data/sling_orange.csv\n"
     ]
    }
   ],
   "source": [
    "for f in csvz:\n",
    "    with open(f, newline='') as csvfile:\n",
    "        print(f)\n",
    "        r = csv.DictReader(csvfile)\n",
    "        l = [s for s in r]\n",
    "        \n",
    "        \n",
    "        j = f.replace('csv', 'json')\n",
    "        \n",
    "        try:\n",
    "            for x in l :\n",
    "                if 'services' in x:\n",
    "                    x['services'] = [r for r in x[\"services\"].split(' ') if r]\n",
    "                    \n",
    "                    x['services'] = [{\"service\": r,\"app\": servmatch(r)} for r in x['services']]\n",
    "        except Exception as e:\n",
    "            print(e)\n",
    "            \n",
    "            \n",
    "        with open(j, 'w') as json_file:\n",
    "            json.dump(l, json_file)"
   ]
  },
  {
   "cell_type": "code",
   "execution_count": 208,
   "metadata": {},
   "outputs": [],
   "source": [
    "price_file = open(join(mypath, 'service_prices.json'))\n",
    "prices = json.load(price_file)\n",
    "    \n",
    "channel_file = open(join(mypath, 'live_network-service_match.json'))\n",
    "chans = json.load(channel_file)"
   ]
  },
  {
   "cell_type": "code",
   "execution_count": 209,
   "metadata": {},
   "outputs": [],
   "source": [
    "for c in chans:\n",
    "    for s in c['services']:\n",
    "        for p in prices:\n",
    "            if s['service'] == p['service']:\n",
    "                s['price'] = p"
   ]
  },
  {
   "cell_type": "code",
   "execution_count": 210,
   "metadata": {},
   "outputs": [],
   "source": [
    "final_file = open('final_file.json', 'w')\n",
    "json.dump(chans, final_file)\n",
    "final_file.close()"
   ]
  },
  {
   "cell_type": "code",
   "execution_count": null,
   "outputs": [],
   "source": [
    ""
   ]
  },
  {
   "cell_type": "code",
   "execution_count": 213,
   "metadata": {},
   "outputs": [],
   "source": [
    "client = MongoClient('mongodb://localhost:27017')\n",
    "db =client.test\n",
    "collection = db.live_streaming_services"
   ]
  },
  {
   "cell_type": "code",
   "execution_count": 212,
   "metadata": {},
   "outputs": [],
   "source": [
    "result = collection.insert_many(chans)"
   ]
  },
  {
   "cell_type": "code",
   "execution_count": 223,
   "metadata": {},
   "outputs": [],
   "source": [
    "# result.inserted_ids"
   ]
  },
  {
   "cell_type": "code",
   "execution_count": 218,
   "metadata": {},
   "outputs": [],
   "source": [
    "noti_file = open(join(mypath, 'live_notification_content.json'))\n",
    "notices = json.load(noti_file)\n",
    "\n",
    "result = db.notifications.insert_many(notices)"
   ]
  },
  {
   "cell_type": "code",
   "execution_count": null,
   "metadata": {},
   "outputs": [],
   "source": [
    "result.inserted_ids"
   ]
  },
  {
   "cell_type": "code",
   "execution_count": null,
   "metadata": {},
   "outputs": [],
   "source": [
    ""
   ]
  }
 ],
 "metadata": {
  "kernelspec": {
   "display_name": "Python 2",
   "language": "python",
   "name": "python2"
  },
  "language_info": {
   "codemirror_mode": {
    "name": "ipython",
    "version": 2.0
   },
   "file_extension": ".py",
   "mimetype": "text/x-python",
   "name": "python",
   "nbconvert_exporter": "python",
   "pygments_lexer": "ipython2",
   "version": "2.7.6"
  }
 },
 "nbformat": 4,
 "nbformat_minor": 0
}
